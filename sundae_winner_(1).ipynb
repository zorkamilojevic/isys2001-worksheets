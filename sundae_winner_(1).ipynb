{
  "nbformat": 4,
  "nbformat_minor": 0,
  "metadata": {
    "colab": {
      "name": "sundae_winner (1).ipynb",
      "provenance": [],
      "include_colab_link": true
    },
    "kernelspec": {
      "name": "python3",
      "display_name": "Python 3"
    },
    "language_info": {
      "name": "python"
    }
  },
  "cells": [
    {
      "cell_type": "markdown",
      "metadata": {
        "id": "view-in-github",
        "colab_type": "text"
      },
      "source": [
        "<a href=\"https://colab.research.google.com/github/zorkamilojevic/isys2001-worksheets/blob/main/sundae_winner_(1).ipynb\" target=\"_parent\"><img src=\"https://colab.research.google.com/assets/colab-badge.svg\" alt=\"Open In Colab\"/></a>"
      ]
    },
    {
      "cell_type": "markdown",
      "source": [
        "# Sundae Winner \n",
        "\n",
        "Other than (maybe) in the lectures, we haven't done any programing. Even so, Python doesn't look that hard. Below is the Python code we saw last week from Sharpen_Pencil.PDF. Perform the tasks below. If you get stuckm don't worry, we will go thorough the answers.\n",
        "\n",
        "### Task 0 - Run the program\n",
        "\n",
        "To make sure you understand what is happening, try running the cod a few times.\n",
        "\n",
        "``` To run the code, click insode the cell and either click the 'play' icon or hit shift+enter together``` \n",
        "\n",
        "\n",
        "### Task 1 - Understanding input\n",
        "\n",
        "Which of the following will give you a cherry on top? What happens if when the program asks (prompts) you for a cherry on top you type (notice the different uppercase letters in the input): \n",
        "\n",
        "1. Yes\n",
        "2. yeS\n",
        "3. YES\n",
        "4. yes\n",
        "5. no\n",
        "6. NO\n",
        "\n",
        "### Task 2 - editing a program\n",
        "\n",
        "Other than in the lectures, we haven't done any programing. Even so, Python doesn;t look that hard.  Try to make the following following changes, if you get stuckm don;t worry, your lecturer will go thorough the answers:\n",
        "* Change 'Stacie' to 'Stacy'\n",
        "* Add your name to the list\n",
        "\n",
        "### Task 3 - Workflow\n",
        "\n",
        "After each change, rerun the program to make sure the chages has bene applied. When you have the change has worked, save the notebook to GitHub.\n",
        "\n",
        "Here is our workflow\n",
        "* Open/Create/import notebook into Colab\n",
        "* Make sure notebook has meaningfuly name\n",
        "* Design, edit make changest in Colab Tab\n",
        "* Save regulary to GitHub (close GitHub window after save)\n",
        "* Continue with edits in the colab tab.\n",
        "\n",
        "\n",
        "\n",
        "# The Program itself \n",
        "\n",
        "We will talk more about the ```import``` statement later lecture, but briefly it is a way of letting you use code from elsewhere.  We call this process ```import``` and the code form else where is bundled into a package or modules.    So in the following, some programmer worked out how to get the comuter to generate random numbers, and put this into a module called ```random```.  Since we want to use use we need to ```import``` the module."
      ],
      "metadata": {
        "id": "Z8lc5lPfpxup"
      }
    },
    {
      "cell_type": "code",
      "execution_count": 8,
      "metadata": {
        "colab": {
          "base_uri": "https://localhost:8080/"
        },
        "id": "y4lK6jddpTME",
        "outputId": "b4f6ceb2-ae8d-4519-b7a0-45dd804b503d"
      },
      "outputs": [
        {
          "output_type": "stream",
          "name": "stdout",
          "text": [
            "Congratulations Zorka you have won an ice cream sundae!\n",
            "Would you like a cherry on top? yes\n",
            "One vanilla sundae  with a cherry on top for Zorka coming right up...\n"
          ]
        }
      ],
      "source": [
        "import random\n",
        "\n",
        "customers =  ['Jimmy', 'Kim', 'John', 'Stacy', 'Zorka']\n",
        "\n",
        "winner = random.choice(customers)\n",
        "\n",
        "flavor = 'vanilla'\n",
        "\n",
        "print('Congratulations ' + winner +\n",
        " ' you have won an ice cream sundae!')\n",
        "\n",
        "prompt = 'Would you like a cherry on top? '\n",
        "\n",
        "wants_cherry = input(prompt)\n",
        "\n",
        "order = flavor + ' sundae '\n",
        "\n",
        "if (wants_cherry == 'yes'):\n",
        " order = order + ' with a cherry on top'\n",
        "\n",
        "print('One ' + order + ' for ' + winner +\n",
        " ' coming right up...')"
      ]
    },
    {
      "cell_type": "code",
      "source": [
        "import random\n",
        "\n",
        "customer1 =  ['Jimmy', 'Kim', 'John', 'Stacy', 'Zorka']\n",
        "\n",
        "customer2 = ['Maya', 'Milan', 'Greg', 'Dan', 'Jack']\n",
        "\n",
        "winner1 = random.choice(customer1)\n",
        "\n",
        "winner2 = random.choice(customer2)\n",
        "\n",
        "flavor = 'vanilla'\n",
        "\n",
        "print('Congratulations ' + winner1 + ' and ' + winner2 + \n",
        "      ' you have won an ice cream sundae!')\n",
        " \n",
        "\n",
        "prompt = 'Would you like a cherry on top? '\n",
        "\n",
        "wants_cherry = input(prompt)\n",
        "\n",
        "order = flavor + ' sundae '\n",
        "\n",
        "if (wants_cherry == 'yes'):\n",
        " order = order + ' with a cherry on top'\n",
        "\n",
        "print('One ' + order + ' for ' + winner1 + ' and ' + winner2 + \n",
        " ' coming right up...')"
      ],
      "metadata": {
        "colab": {
          "base_uri": "https://localhost:8080/"
        },
        "id": "IWsOohPjzArX",
        "outputId": "6edb2724-d5fc-40d7-f657-5c6d11402f12"
      },
      "execution_count": 20,
      "outputs": [
        {
          "output_type": "stream",
          "name": "stdout",
          "text": [
            "Congratulations John and Dan you have won an ice cream sundae!\n",
            "Would you like a cherry on top? yes\n",
            "One vanilla sundae  with a cherry on top for John and Dan coming right up...\n"
          ]
        }
      ]
    },
    {
      "cell_type": "markdown",
      "source": [
        "### Task 4 - Multiple winners\n",
        "\n",
        "No coding is required for this task, this is a thiking exercise where you can write your ideas down.  We are not worried  about how to do it specifically in Python. It is more important to think about what needs to be done. Google, StackOverflow, Books, etc., will help with the how. The hard part is working out the what (Problem-solving).\n",
        "\n",
        "How could the program to have two people win a sundae?  What steps need to be added?   "
      ],
      "metadata": {
        "id": "HrxSqDWcv456"
      }
    },
    {
      "cell_type": "code",
      "source": [
        "import random\n",
        "\n",
        "customer1 =  ['Jimmy', 'Kim', 'John', 'Stacy', 'Zorka']\n",
        "\n",
        "customer2 = ['Maya', 'Milan', 'Greg', 'Dan', 'Jack']\n",
        "\n",
        "winner1 = random.choice(customer1)\n",
        "\n",
        "winner2 = random.choice(customer2)\n",
        "\n",
        "flavor = 'vanilla'\n",
        "\n",
        "print('Congratulations ' + winner1 + ' and ' + winner2 + \n",
        "      ' you have won an ice cream sundae!')\n",
        " \n",
        "\n",
        "prompt = 'Would you like a cherry on top? '\n",
        "\n",
        "wants_cherry = input(prompt)\n",
        "\n",
        "order = flavor + ' sundae '\n",
        "\n",
        "if (wants_cherry == 'yes'):\n",
        " order = order + ' with a cherry on top'\n",
        "\n",
        "print('One ' + order + ' for ' + winner1 + ' and ' + winner2 + \n",
        " ' coming right up...')"
      ],
      "metadata": {
        "id": "9JXNq_h52qDD"
      },
      "execution_count": null,
      "outputs": []
    },
    {
      "cell_type": "markdown",
      "source": [
        ""
      ],
      "metadata": {
        "id": "DxP1NrSr2uRQ"
      }
    },
    {
      "cell_type": "markdown",
      "source": [
        "#Answers\n",
        "\n",
        "####Task 1\n",
        "The only option that gives me the desired output is option number 4. It is the only option that computer registers as yes, and the remaining options are all recognised as a no from the computer's point of view.\n",
        "\n",
        "####Task 2\n",
        "I updated the program simply by changing the name to Stacy, and adding my own name into the code. I run it a few times just to make sure it works.\n",
        "\n",
        "####Task 3\n",
        "Additionally, I saved my work to my GitHub and I also updated the commit message, so once I want to see this version of document I can easily find it on the list of versions that is displayed.\n",
        "\n",
        "####Task 4\n",
        "For this task I decided to make 2 separate groups of customers and to assign a random winner for each one of them, so I don't end up with 2 same names. I am not sure if that's okay but it just made more sense. Then I needed to change name of each customer and winner word followed by number, and I also made sure they are aligning throughout the program. It took me a fair bit of time to fix the syntaxes but I realized I was missing the + symbol. Once I finally got the program running, my names had no space in between words, then I fixed it inside the strings and got it running properly. I hope my explanation makes sense and this is roughly correct. \n"
      ],
      "metadata": {
        "id": "sAq_82_rt_hH"
      }
    }
  ]
}