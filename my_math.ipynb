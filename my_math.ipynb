{
  "nbformat": 4,
  "nbformat_minor": 0,
  "metadata": {
    "colab": {
      "name": "my_math.ipynb",
      "provenance": [],
      "include_colab_link": true
    },
    "kernelspec": {
      "name": "python3",
      "display_name": "Python 3"
    },
    "language_info": {
      "name": "python"
    }
  },
  "cells": [
    {
      "cell_type": "markdown",
      "metadata": {
        "id": "view-in-github",
        "colab_type": "text"
      },
      "source": [
        "<a href=\"https://colab.research.google.com/github/zorkamilojevic/isys2001-worksheets/blob/main/my_math.ipynb\" target=\"_parent\"><img src=\"https://colab.research.google.com/assets/colab-badge.svg\" alt=\"Open In Colab\"/></a>"
      ]
    },
    {
      "cell_type": "markdown",
      "source": [
        "Any Python file you create is a module that you can import. Here is a simple module that has some basic arithmetic functions in it. \n",
        "\n",
        "This code is very naive. You have no error handling at all, for example. What that means is that you could divide by zero and cause an exception to be thrown. You could also pass incompatible types to these functions, like a string and an integer -- that would cause a different kind of exception to be raised.\n",
        "\n",
        "However, for learning purposes, this code is adequate. "
      ],
      "metadata": {
        "id": "--JrhOOldrwN"
      }
    },
    {
      "cell_type": "code",
      "execution_count": null,
      "metadata": {
        "id": "MUOoi228c_DS"
      },
      "outputs": [],
      "source": [
        "def add(x, y):\n",
        "    '''Add two numbers'''\n",
        "    return x + y\n",
        "\n",
        "def divide(x, y):\n",
        "    '''Divide first by second number'''\n",
        "    return x / y\n",
        "\n",
        "def multiply(x, y):\n",
        "    '''Multiple two numbers'''\n",
        "    return x * y\n",
        "\n",
        "def subtract(x, y):\n",
        "    '''Subtract two numbers'''\n",
        "    return x - y"
      ]
    }
  ]
}