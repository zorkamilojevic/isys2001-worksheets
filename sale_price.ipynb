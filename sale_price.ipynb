{
  "nbformat": 4,
  "nbformat_minor": 0,
  "metadata": {
    "colab": {
      "name": "sale_price.ipynb",
      "provenance": [],
      "include_colab_link": true
    },
    "kernelspec": {
      "name": "python3",
      "display_name": "Python 3"
    },
    "language_info": {
      "name": "python"
    }
  },
  "cells": [
    {
      "cell_type": "markdown",
      "metadata": {
        "id": "view-in-github",
        "colab_type": "text"
      },
      "source": [
        "<a href=\"https://colab.research.google.com/github/zorkamilojevic/isys2001-worksheets/blob/main/sale_price.ipynb\" target=\"_parent\"><img src=\"https://colab.research.google.com/assets/colab-badge.svg\" alt=\"Open In Colab\"/></a>"
      ]
    },
    {
      "cell_type": "markdown",
      "metadata": {
        "id": "cgTeiXOtSPjH"
      },
      "source": [
        "# Sales Price\n",
        "\n",
        "A local department store needs to develop a program that will computer the total price (including goods and services tax) of the item on sale when given an item's original price and discount percentage.\n",
        "\n",
        "## Tasks\n",
        "* Save to Github\n",
        "* Design Algorithm\n",
        "* Write and test the program in Python"
      ]
    },
    {
      "cell_type": "code",
      "metadata": {
        "id": "pPIN2ZcrSqdw",
        "colab": {
          "base_uri": "https://localhost:8080/"
        },
        "outputId": "0221742e-73e9-41a1-aa0a-d7c8113ca2a8"
      },
      "source": [
        "def calculate_price(price, discount):\n",
        "  '''This function will calculate the total price\n",
        "  that includes goods and service taxes, of an item on sale'''\n",
        "  amount_saved = price * (discount/100)\n",
        "  sale_price = price - amount_saved\n",
        "  gst = sale_price * 0.1\n",
        "  total_price = sale_price + gst\n",
        "  return total_price\n",
        "\n",
        "calculate_price(400, 30)\n",
        "\n",
        "\n",
        "\n",
        "\n",
        "\n"
      ],
      "execution_count": 2,
      "outputs": [
        {
          "output_type": "execute_result",
          "data": {
            "text/plain": [
              "308.0"
            ]
          },
          "metadata": {},
          "execution_count": 2
        }
      ]
    },
    {
      "cell_type": "code",
      "source": [
        "def calculate_price(price, discount):\n",
        "  '''This function will calculate the total price\n",
        "  that includes goods and service taxes, of an item on sale'''\n",
        "  amount_saved = price * (discount/100)\n",
        "  sale_price = price - amount_saved\n",
        "  gst = sale_price * 0.1\n",
        "  total_price = sale_price + gst\n",
        "  return total_price\n",
        "  price = price()\n",
        "  disocunt = discount()\n",
        "\n",
        "calculate_price(400, 30)\n",
        "#This is the initial program that I defined and it works as far as I know\n",
        "\n",
        "\n",
        "\n",
        "def price():\n",
        "  '''This function will prompt the user for the price of an item and \n",
        "  return the value'''\n",
        "  price = int(input('What is the initial price of the item? '))\n",
        "  return price\n",
        "#however, I tried to exand it but I got lost and I hate my life\n",
        "\n",
        "def discount():\n",
        "  '''This function will prompt the user fot the discount, and covert \n",
        "  it from an integer to a float'''\n",
        "  discount = int(input('What is the discount applied? '))\n",
        "  return discount\n",
        "#this is really exhausting and I hope I will figure it out later\n",
        "#I also hope you can get an idea of what I tried to implement\n",
        "#I wanted a user to insert the initial amount and the discount\n",
        "#and then the program to use these to parameters and calculate the \n",
        "#sale price\n",
        "\n",
        "price()\n",
        "discount()\n",
        "calculate_price(price, discount)\n",
        "print('The sale price is' + total_price)\n",
        "\n",
        "\n",
        "\n",
        "\n",
        "\n",
        "\n",
        "\n",
        "\n"
      ],
      "metadata": {
        "colab": {
          "base_uri": "https://localhost:8080/",
          "height": 385
        },
        "id": "Mk8Aa4QtnabQ",
        "outputId": "926af450-0963-4b0d-b96a-b31ab435ef9e"
      },
      "execution_count": 57,
      "outputs": [
        {
          "output_type": "error",
          "ename": "TypeError",
          "evalue": "ignored",
          "traceback": [
            "\u001b[0;31m---------------------------------------------------------------------------\u001b[0m",
            "\u001b[0;31mTypeError\u001b[0m                                 Traceback (most recent call last)",
            "\u001b[0;32m<ipython-input-57-9c2755b28482>\u001b[0m in \u001b[0;36m<module>\u001b[0;34m()\u001b[0m\n\u001b[1;32m     10\u001b[0m   \u001b[0mdisocunt\u001b[0m \u001b[0;34m=\u001b[0m \u001b[0mdiscount\u001b[0m\u001b[0;34m(\u001b[0m\u001b[0;34m)\u001b[0m\u001b[0;34m\u001b[0m\u001b[0;34m\u001b[0m\u001b[0m\n\u001b[1;32m     11\u001b[0m \u001b[0;34m\u001b[0m\u001b[0m\n\u001b[0;32m---> 12\u001b[0;31m \u001b[0mcalculate_price\u001b[0m\u001b[0;34m(\u001b[0m\u001b[0;36m400\u001b[0m\u001b[0;34m,\u001b[0m \u001b[0;36m30\u001b[0m\u001b[0;34m)\u001b[0m\u001b[0;34m\u001b[0m\u001b[0;34m\u001b[0m\u001b[0m\n\u001b[0m\u001b[1;32m     13\u001b[0m \u001b[0;34m\u001b[0m\u001b[0m\n\u001b[1;32m     14\u001b[0m \u001b[0;34m\u001b[0m\u001b[0m\n",
            "\u001b[0;32m<ipython-input-57-9c2755b28482>\u001b[0m in \u001b[0;36mcalculate_price\u001b[0;34m(price, discount)\u001b[0m\n\u001b[1;32m      2\u001b[0m   '''This function will calculate the total price\n\u001b[1;32m      3\u001b[0m   that includes goods and service taxes, of an item on sale'''\n\u001b[0;32m----> 4\u001b[0;31m   \u001b[0mamount_saved\u001b[0m \u001b[0;34m=\u001b[0m \u001b[0mprice\u001b[0m\u001b[0;34m(\u001b[0m\u001b[0;34m)\u001b[0m \u001b[0;34m*\u001b[0m \u001b[0;34m(\u001b[0m\u001b[0mdiscount\u001b[0m\u001b[0;34m(\u001b[0m\u001b[0;34m)\u001b[0m\u001b[0;34m/\u001b[0m\u001b[0;36m100\u001b[0m\u001b[0;34m)\u001b[0m\u001b[0;34m\u001b[0m\u001b[0;34m\u001b[0m\u001b[0m\n\u001b[0m\u001b[1;32m      5\u001b[0m   \u001b[0msale_price\u001b[0m \u001b[0;34m=\u001b[0m \u001b[0mprice\u001b[0m\u001b[0;34m(\u001b[0m\u001b[0;34m)\u001b[0m \u001b[0;34m-\u001b[0m \u001b[0mamount_saved\u001b[0m\u001b[0;34m\u001b[0m\u001b[0;34m\u001b[0m\u001b[0m\n\u001b[1;32m      6\u001b[0m   \u001b[0mgst\u001b[0m \u001b[0;34m=\u001b[0m \u001b[0msale_price\u001b[0m \u001b[0;34m*\u001b[0m \u001b[0;36m0.1\u001b[0m\u001b[0;34m\u001b[0m\u001b[0;34m\u001b[0m\u001b[0m\n",
            "\u001b[0;31mTypeError\u001b[0m: 'int' object is not callable"
          ]
        }
      ]
    },
    {
      "cell_type": "code",
      "source": [
        "price()\n",
        "print('The item price is ' + price + 'AUD')\n",
        "discount()\n",
        "print('The discount applied is ' + discount + '%')\n",
        "calculate_price(price, discount)\n",
        "print('The item price on sale is ' + price + 'AUD')\n"
      ],
      "metadata": {
        "id": "aQSwwB7JsQIY"
      },
      "execution_count": null,
      "outputs": []
    }
  ]
}