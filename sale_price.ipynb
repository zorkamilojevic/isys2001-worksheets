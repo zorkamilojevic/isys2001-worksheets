{
  "nbformat": 4,
  "nbformat_minor": 0,
  "metadata": {
    "colab": {
      "name": "sale_price.ipynb",
      "provenance": [],
      "include_colab_link": true
    },
    "kernelspec": {
      "name": "python3",
      "display_name": "Python 3"
    },
    "language_info": {
      "name": "python"
    }
  },
  "cells": [
    {
      "cell_type": "markdown",
      "metadata": {
        "id": "view-in-github",
        "colab_type": "text"
      },
      "source": [
        "<a href=\"https://colab.research.google.com/github/zorkamilojevic/isys2001-worksheets/blob/main/sale_price.ipynb\" target=\"_parent\"><img src=\"https://colab.research.google.com/assets/colab-badge.svg\" alt=\"Open In Colab\"/></a>"
      ]
    },
    {
      "cell_type": "markdown",
      "metadata": {
        "id": "cgTeiXOtSPjH"
      },
      "source": [
        "# Sales Price\n",
        "\n",
        "A local department store needs to develop a program that will computer the total price (including goods and services tax) of the item on sale when given an item's original price and discount percentage.\n",
        "\n",
        "## Tasks\n",
        "* Save to Github\n",
        "* Design Algorithm\n",
        "* Write and test the program in Python"
      ]
    },
    {
      "cell_type": "code",
      "metadata": {
        "id": "pPIN2ZcrSqdw",
        "outputId": "ef0c3f69-5d31-4983-f37c-f51a032ca3d0",
        "colab": {
          "base_uri": "https://localhost:8080/"
        }
      },
      "source": [
        "def calculate_price(price, discount):\n",
        "  '''This program will calculate the total price with a discount\n",
        "      by using parameters provided by user'''\n",
        "  price = int(input('What is the initial price of the product? '))\n",
        "  discount = int(input('What is the discount applied? ')) \n",
        "  amount_saved = price * (discount/100)\n",
        "  sale_price = price - amount_saved\n",
        "  gst = sale_price * 0.1\n",
        "  total_price = sale_price + gst\n",
        "\n",
        "  return total_price\n",
        "\n",
        "\n",
        "calculate_price(price, discount)\n",
        "\n",
        "\n",
        "'''I tried to put a literal for the amount calculated,\n",
        "but I guess I'm not that advanced, I had a mental breakdown \n",
        "because the whole prograd I was trying to get working just\n",
        "before did not get saved.'''\n",
        "\n",
        "\n",
        "\n",
        "\n",
        "\n",
        "\n",
        "\n"
      ],
      "execution_count": 75,
      "outputs": [
        {
          "name": "stdout",
          "output_type": "stream",
          "text": [
            "What is the initial price of the product? 200\n",
            "What is the discount applied? 20\n"
          ]
        },
        {
          "output_type": "execute_result",
          "data": {
            "text/plain": [
              "176.0"
            ]
          },
          "metadata": {},
          "execution_count": 75
        }
      ]
    },
    {
      "cell_type": "code",
      "source": [
        ""
      ],
      "metadata": {
        "id": "sApKpFuTFIW4"
      },
      "execution_count": null,
      "outputs": []
    }
  ]
}